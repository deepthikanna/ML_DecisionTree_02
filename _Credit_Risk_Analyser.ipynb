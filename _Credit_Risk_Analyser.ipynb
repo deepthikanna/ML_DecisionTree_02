{
  "nbformat": 4,
  "nbformat_minor": 0,
  "metadata": {
    "colab": {
      "name": "*Credit_Risk_Analyser.ipynb",
      "provenance": [],
      "collapsed_sections": [],
      "authorship_tag": "ABX9TyNggtBFf3McpqoIHiaym+Wj",
      "include_colab_link": true
    },
    "kernelspec": {
      "name": "python3",
      "display_name": "Python 3"
    }
  },
  "cells": [
    {
      "cell_type": "markdown",
      "metadata": {
        "id": "view-in-github",
        "colab_type": "text"
      },
      "source": [
        "<a href=\"https://colab.research.google.com/github/deepthikanna/ML_DecisionTree_02/blob/main/_Credit_Risk_Analyser.ipynb\" target=\"_parent\"><img src=\"https://colab.research.google.com/assets/colab-badge.svg\" alt=\"Open In Colab\"/></a>"
      ]
    },
    {
      "cell_type": "code",
      "metadata": {
        "id": "B6e5HDOSMvnd"
      },
      "source": [
        "import pandas as pd\n",
        "import numpy as np\n",
        "import matplotlib.pyplot as plt\n",
        "import seaborn as sns\n",
        "sns.set(color_codes='True')\n",
        "%matplotlib inline"
      ],
      "execution_count": null,
      "outputs": []
    },
    {
      "cell_type": "code",
      "metadata": {
        "id": "f8jCPBEkM_cw"
      },
      "source": [
        "df=pd.read_csv(\"/content/credit_data.csv\")"
      ],
      "execution_count": null,
      "outputs": []
    },
    {
      "cell_type": "code",
      "metadata": {
        "id": "8QD95angPpUl",
        "outputId": "b71a63ee-8ac4-459d-fac1-78be5099723c",
        "colab": {
          "base_uri": "https://localhost:8080/",
          "height": 35
        }
      },
      "source": [
        "df.shape"
      ],
      "execution_count": null,
      "outputs": [
        {
          "output_type": "execute_result",
          "data": {
            "text/plain": [
              "(50636, 13)"
            ]
          },
          "metadata": {
            "tags": []
          },
          "execution_count": 9
        }
      ]
    },
    {
      "cell_type": "code",
      "metadata": {
        "id": "LvdJezA8Nv_Z",
        "outputId": "c20b2f86-25c3-449d-b301-6b3bde3c58a3",
        "colab": {
          "base_uri": "https://localhost:8080/",
          "height": 194
        }
      },
      "source": [
        "df.head()"
      ],
      "execution_count": null,
      "outputs": [
        {
          "output_type": "execute_result",
          "data": {
            "text/html": [
              "<div>\n",
              "<style scoped>\n",
              "    .dataframe tbody tr th:only-of-type {\n",
              "        vertical-align: middle;\n",
              "    }\n",
              "\n",
              "    .dataframe tbody tr th {\n",
              "        vertical-align: top;\n",
              "    }\n",
              "\n",
              "    .dataframe thead th {\n",
              "        text-align: right;\n",
              "    }\n",
              "</style>\n",
              "<table border=\"1\" class=\"dataframe\">\n",
              "  <thead>\n",
              "    <tr style=\"text-align: right;\">\n",
              "      <th></th>\n",
              "      <th>age</th>\n",
              "      <th>gender</th>\n",
              "      <th>education</th>\n",
              "      <th>occupation</th>\n",
              "      <th>organization_type</th>\n",
              "      <th>seniority</th>\n",
              "      <th>annual_income</th>\n",
              "      <th>disposable_income</th>\n",
              "      <th>house_type</th>\n",
              "      <th>vehicle_type</th>\n",
              "      <th>marital_status</th>\n",
              "      <th>no_card</th>\n",
              "      <th>default</th>\n",
              "    </tr>\n",
              "  </thead>\n",
              "  <tbody>\n",
              "    <tr>\n",
              "      <th>0</th>\n",
              "      <td>19</td>\n",
              "      <td>0</td>\n",
              "      <td>0</td>\n",
              "      <td>1</td>\n",
              "      <td>0</td>\n",
              "      <td>4</td>\n",
              "      <td>186319</td>\n",
              "      <td>21625</td>\n",
              "      <td>1</td>\n",
              "      <td>1</td>\n",
              "      <td>0</td>\n",
              "      <td>0</td>\n",
              "      <td>1</td>\n",
              "    </tr>\n",
              "    <tr>\n",
              "      <th>1</th>\n",
              "      <td>18</td>\n",
              "      <td>0</td>\n",
              "      <td>3</td>\n",
              "      <td>1</td>\n",
              "      <td>0</td>\n",
              "      <td>4</td>\n",
              "      <td>277022</td>\n",
              "      <td>20442</td>\n",
              "      <td>3</td>\n",
              "      <td>1</td>\n",
              "      <td>0</td>\n",
              "      <td>0</td>\n",
              "      <td>1</td>\n",
              "    </tr>\n",
              "    <tr>\n",
              "      <th>2</th>\n",
              "      <td>29</td>\n",
              "      <td>0</td>\n",
              "      <td>3</td>\n",
              "      <td>2</td>\n",
              "      <td>0</td>\n",
              "      <td>0</td>\n",
              "      <td>348676</td>\n",
              "      <td>24404</td>\n",
              "      <td>3</td>\n",
              "      <td>1</td>\n",
              "      <td>0</td>\n",
              "      <td>1</td>\n",
              "      <td>1</td>\n",
              "    </tr>\n",
              "    <tr>\n",
              "      <th>3</th>\n",
              "      <td>18</td>\n",
              "      <td>0</td>\n",
              "      <td>0</td>\n",
              "      <td>3</td>\n",
              "      <td>0</td>\n",
              "      <td>4</td>\n",
              "      <td>165041</td>\n",
              "      <td>2533</td>\n",
              "      <td>3</td>\n",
              "      <td>1</td>\n",
              "      <td>0</td>\n",
              "      <td>0</td>\n",
              "      <td>1</td>\n",
              "    </tr>\n",
              "    <tr>\n",
              "      <th>4</th>\n",
              "      <td>26</td>\n",
              "      <td>0</td>\n",
              "      <td>2</td>\n",
              "      <td>2</td>\n",
              "      <td>0</td>\n",
              "      <td>2</td>\n",
              "      <td>348745</td>\n",
              "      <td>19321</td>\n",
              "      <td>3</td>\n",
              "      <td>1</td>\n",
              "      <td>0</td>\n",
              "      <td>1</td>\n",
              "      <td>1</td>\n",
              "    </tr>\n",
              "  </tbody>\n",
              "</table>\n",
              "</div>"
            ],
            "text/plain": [
              "   age  gender  education  ...  marital_status  no_card  default\n",
              "0   19       0          0  ...               0        0        1\n",
              "1   18       0          3  ...               0        0        1\n",
              "2   29       0          3  ...               0        1        1\n",
              "3   18       0          0  ...               0        0        1\n",
              "4   26       0          2  ...               0        1        1\n",
              "\n",
              "[5 rows x 13 columns]"
            ]
          },
          "metadata": {
            "tags": []
          },
          "execution_count": 45
        }
      ]
    },
    {
      "cell_type": "code",
      "metadata": {
        "id": "4RwNRdkuNxeJ",
        "outputId": "4d16a899-10d2-4952-9381-c71a1ae6cf4d",
        "colab": {
          "base_uri": "https://localhost:8080/",
          "height": 248
        }
      },
      "source": [
        "df.tail()"
      ],
      "execution_count": null,
      "outputs": [
        {
          "output_type": "execute_result",
          "data": {
            "text/html": [
              "<div>\n",
              "<style scoped>\n",
              "    .dataframe tbody tr th:only-of-type {\n",
              "        vertical-align: middle;\n",
              "    }\n",
              "\n",
              "    .dataframe tbody tr th {\n",
              "        vertical-align: top;\n",
              "    }\n",
              "\n",
              "    .dataframe thead th {\n",
              "        text-align: right;\n",
              "    }\n",
              "</style>\n",
              "<table border=\"1\" class=\"dataframe\">\n",
              "  <thead>\n",
              "    <tr style=\"text-align: right;\">\n",
              "      <th></th>\n",
              "      <th>age</th>\n",
              "      <th>gender</th>\n",
              "      <th>education</th>\n",
              "      <th>occupation</th>\n",
              "      <th>organization_type</th>\n",
              "      <th>seniority</th>\n",
              "      <th>annual_income</th>\n",
              "      <th>disposable_income</th>\n",
              "      <th>house_type</th>\n",
              "      <th>vehicle_type</th>\n",
              "      <th>marital_status</th>\n",
              "      <th>no_card</th>\n",
              "      <th>default</th>\n",
              "    </tr>\n",
              "  </thead>\n",
              "  <tbody>\n",
              "    <tr>\n",
              "      <th>50631</th>\n",
              "      <td>31</td>\n",
              "      <td>Female</td>\n",
              "      <td>Under Graduate</td>\n",
              "      <td>Professional</td>\n",
              "      <td>None</td>\n",
              "      <td>None</td>\n",
              "      <td>674450</td>\n",
              "      <td>21695</td>\n",
              "      <td>Rented</td>\n",
              "      <td>Two Wheeler</td>\n",
              "      <td>Married</td>\n",
              "      <td>2</td>\n",
              "      <td>0</td>\n",
              "    </tr>\n",
              "    <tr>\n",
              "      <th>50632</th>\n",
              "      <td>29</td>\n",
              "      <td>Female</td>\n",
              "      <td>Other</td>\n",
              "      <td>Business</td>\n",
              "      <td>None</td>\n",
              "      <td>None</td>\n",
              "      <td>78661</td>\n",
              "      <td>3617</td>\n",
              "      <td>Rented</td>\n",
              "      <td>Two Wheeler</td>\n",
              "      <td>Married</td>\n",
              "      <td>2</td>\n",
              "      <td>0</td>\n",
              "    </tr>\n",
              "    <tr>\n",
              "      <th>50633</th>\n",
              "      <td>25</td>\n",
              "      <td>Male</td>\n",
              "      <td>Post Graduate</td>\n",
              "      <td>Business</td>\n",
              "      <td>None</td>\n",
              "      <td>None</td>\n",
              "      <td>333840</td>\n",
              "      <td>11636</td>\n",
              "      <td>Owned</td>\n",
              "      <td>None</td>\n",
              "      <td>Married</td>\n",
              "      <td>1</td>\n",
              "      <td>0</td>\n",
              "    </tr>\n",
              "    <tr>\n",
              "      <th>50634</th>\n",
              "      <td>29</td>\n",
              "      <td>Male</td>\n",
              "      <td>Graduate</td>\n",
              "      <td>Salaried</td>\n",
              "      <td>None</td>\n",
              "      <td>Entry</td>\n",
              "      <td>306053</td>\n",
              "      <td>43751</td>\n",
              "      <td>Rented</td>\n",
              "      <td>None</td>\n",
              "      <td>Single</td>\n",
              "      <td>0</td>\n",
              "      <td>0</td>\n",
              "    </tr>\n",
              "    <tr>\n",
              "      <th>50635</th>\n",
              "      <td>25</td>\n",
              "      <td>Male</td>\n",
              "      <td>Graduate</td>\n",
              "      <td>Business</td>\n",
              "      <td>None</td>\n",
              "      <td>None</td>\n",
              "      <td>385157</td>\n",
              "      <td>32684</td>\n",
              "      <td>Family</td>\n",
              "      <td>Two Wheeler</td>\n",
              "      <td>Married</td>\n",
              "      <td>0</td>\n",
              "      <td>0</td>\n",
              "    </tr>\n",
              "  </tbody>\n",
              "</table>\n",
              "</div>"
            ],
            "text/plain": [
              "       age  gender       education  ... marital_status no_card default\n",
              "50631   31  Female  Under Graduate  ...        Married       2       0\n",
              "50632   29  Female           Other  ...        Married       2       0\n",
              "50633   25    Male   Post Graduate  ...        Married       1       0\n",
              "50634   29    Male        Graduate  ...         Single       0       0\n",
              "50635   25    Male        Graduate  ...        Married       0       0\n",
              "\n",
              "[5 rows x 13 columns]"
            ]
          },
          "metadata": {
            "tags": []
          },
          "execution_count": 11
        }
      ]
    },
    {
      "cell_type": "code",
      "metadata": {
        "id": "XSCDwyL8N5be",
        "outputId": "70d2fd71-c243-460c-f4e0-83e6e20f1b58",
        "colab": {
          "base_uri": "https://localhost:8080/",
          "height": 266
        }
      },
      "source": [
        "df.describe"
      ],
      "execution_count": null,
      "outputs": [
        {
          "output_type": "execute_result",
          "data": {
            "text/plain": [
              "<bound method NDFrame.describe of        age  gender  education  ...  marital_status  no_card  default\n",
              "0       19       0          0  ...               0        0        1\n",
              "1       18       0          3  ...               0        0        1\n",
              "2       29       0          3  ...               0        1        1\n",
              "3       18       0          0  ...               0        0        1\n",
              "4       26       0          2  ...               0        1        1\n",
              "...    ...     ...        ...  ...             ...      ...      ...\n",
              "50631   31       1          3  ...               0        2        0\n",
              "50632   29       1          1  ...               0        2        0\n",
              "50633   25       0          2  ...               0        1        0\n",
              "50634   29       0          0  ...               2        0        0\n",
              "50635   25       0          0  ...               0        0        0\n",
              "\n",
              "[50636 rows x 13 columns]>"
            ]
          },
          "metadata": {
            "tags": []
          },
          "execution_count": 46
        }
      ]
    },
    {
      "cell_type": "code",
      "metadata": {
        "id": "cVfEE_F3Yle4"
      },
      "source": [
        "gender_map={'Male':0,'Female':1}\n",
        "df['gender']=df['gender'].map(gender_map)"
      ],
      "execution_count": null,
      "outputs": []
    },
    {
      "cell_type": "code",
      "metadata": {
        "id": "7YKF6rEDZaPV"
      },
      "source": [
        "education_map={'Graduate' : 0, 'Other' : 1, 'Post Graduate' : 2, 'Under Graduate' : 3}\n",
        "df['education']=df['education'].map(education_map)"
      ],
      "execution_count": null,
      "outputs": []
    },
    {
      "cell_type": "code",
      "metadata": {
        "id": "2u5k_oSBd6RG"
      },
      "source": [
        "occupation_map={'Business':0, 'Professional':1, 'Salaried':2, 'Student':3}\n",
        "df['occupation']=df['occupation'].map(occupation_map)"
      ],
      "execution_count": null,
      "outputs": []
    },
    {
      "cell_type": "code",
      "metadata": {
        "id": "wAOYtLskeoJY"
      },
      "source": [
        "organization_type_map={'None':0, 'Tier 1':1, 'Tier 2':2, 'Tier 3':3}\n",
        "df['organization_type']=df['organization_type'].map(organization_type_map)"
      ],
      "execution_count": null,
      "outputs": []
    },
    {
      "cell_type": "code",
      "metadata": {
        "id": "XGX6qjfIfLwc"
      },
      "source": [
        "seniority_map={'Entry':0, 'Junior':1, 'Mid-level 1':2, 'Mid-level 2':3, 'None':4, 'Senior':5}\n",
        "df['seniority']=df['seniority'].map(seniority_map)"
      ],
      "execution_count": null,
      "outputs": []
    },
    {
      "cell_type": "code",
      "metadata": {
        "id": "WiSUd5BIg2DU"
      },
      "source": [
        "house_type_map={'Company provided':0, 'Family':1, 'Owned':2, 'Rented':3}\n",
        "df['house_type']=df['house_type'].map(house_type_map)"
      ],
      "execution_count": null,
      "outputs": []
    },
    {
      "cell_type": "code",
      "metadata": {
        "id": "fvTbISDkhdcV"
      },
      "source": [
        "vehicle_type_map={'Four Wheeler':0, 'None':1, 'Two Wheeler':2}\n",
        "df['vehicle_type']=df['vehicle_type'].map(vehicle_type_map)"
      ],
      "execution_count": null,
      "outputs": []
    },
    {
      "cell_type": "code",
      "metadata": {
        "id": "mjOhC2a2h5Ka"
      },
      "source": [
        "marital_status_map={'Married':0, 'Other':1, 'Single':2}\n",
        "df['marital_status']=df['marital_status'].map(marital_status_map)"
      ],
      "execution_count": null,
      "outputs": []
    },
    {
      "cell_type": "code",
      "metadata": {
        "id": "tT09WokMuJli",
        "outputId": "a70ee516-bfa2-466d-9bd8-809e278efd34",
        "colab": {
          "base_uri": "https://localhost:8080/",
          "height": 194
        }
      },
      "source": [
        "df.head()"
      ],
      "execution_count": null,
      "outputs": [
        {
          "output_type": "execute_result",
          "data": {
            "text/html": [
              "<div>\n",
              "<style scoped>\n",
              "    .dataframe tbody tr th:only-of-type {\n",
              "        vertical-align: middle;\n",
              "    }\n",
              "\n",
              "    .dataframe tbody tr th {\n",
              "        vertical-align: top;\n",
              "    }\n",
              "\n",
              "    .dataframe thead th {\n",
              "        text-align: right;\n",
              "    }\n",
              "</style>\n",
              "<table border=\"1\" class=\"dataframe\">\n",
              "  <thead>\n",
              "    <tr style=\"text-align: right;\">\n",
              "      <th></th>\n",
              "      <th>age</th>\n",
              "      <th>gender</th>\n",
              "      <th>education</th>\n",
              "      <th>occupation</th>\n",
              "      <th>organization_type</th>\n",
              "      <th>seniority</th>\n",
              "      <th>annual_income</th>\n",
              "      <th>disposable_income</th>\n",
              "      <th>house_type</th>\n",
              "      <th>vehicle_type</th>\n",
              "      <th>marital_status</th>\n",
              "      <th>no_card</th>\n",
              "      <th>default</th>\n",
              "    </tr>\n",
              "  </thead>\n",
              "  <tbody>\n",
              "    <tr>\n",
              "      <th>0</th>\n",
              "      <td>19</td>\n",
              "      <td>0</td>\n",
              "      <td>0</td>\n",
              "      <td>1</td>\n",
              "      <td>0</td>\n",
              "      <td>4</td>\n",
              "      <td>186319</td>\n",
              "      <td>21625</td>\n",
              "      <td>1</td>\n",
              "      <td>1</td>\n",
              "      <td>0</td>\n",
              "      <td>0</td>\n",
              "      <td>1</td>\n",
              "    </tr>\n",
              "    <tr>\n",
              "      <th>1</th>\n",
              "      <td>18</td>\n",
              "      <td>0</td>\n",
              "      <td>3</td>\n",
              "      <td>1</td>\n",
              "      <td>0</td>\n",
              "      <td>4</td>\n",
              "      <td>277022</td>\n",
              "      <td>20442</td>\n",
              "      <td>3</td>\n",
              "      <td>1</td>\n",
              "      <td>0</td>\n",
              "      <td>0</td>\n",
              "      <td>1</td>\n",
              "    </tr>\n",
              "    <tr>\n",
              "      <th>2</th>\n",
              "      <td>29</td>\n",
              "      <td>0</td>\n",
              "      <td>3</td>\n",
              "      <td>2</td>\n",
              "      <td>0</td>\n",
              "      <td>0</td>\n",
              "      <td>348676</td>\n",
              "      <td>24404</td>\n",
              "      <td>3</td>\n",
              "      <td>1</td>\n",
              "      <td>0</td>\n",
              "      <td>1</td>\n",
              "      <td>1</td>\n",
              "    </tr>\n",
              "    <tr>\n",
              "      <th>3</th>\n",
              "      <td>18</td>\n",
              "      <td>0</td>\n",
              "      <td>0</td>\n",
              "      <td>3</td>\n",
              "      <td>0</td>\n",
              "      <td>4</td>\n",
              "      <td>165041</td>\n",
              "      <td>2533</td>\n",
              "      <td>3</td>\n",
              "      <td>1</td>\n",
              "      <td>0</td>\n",
              "      <td>0</td>\n",
              "      <td>1</td>\n",
              "    </tr>\n",
              "    <tr>\n",
              "      <th>4</th>\n",
              "      <td>26</td>\n",
              "      <td>0</td>\n",
              "      <td>2</td>\n",
              "      <td>2</td>\n",
              "      <td>0</td>\n",
              "      <td>2</td>\n",
              "      <td>348745</td>\n",
              "      <td>19321</td>\n",
              "      <td>3</td>\n",
              "      <td>1</td>\n",
              "      <td>0</td>\n",
              "      <td>1</td>\n",
              "      <td>1</td>\n",
              "    </tr>\n",
              "  </tbody>\n",
              "</table>\n",
              "</div>"
            ],
            "text/plain": [
              "   age  gender  education  ...  marital_status  no_card  default\n",
              "0   19       0          0  ...               0        0        1\n",
              "1   18       0          3  ...               0        0        1\n",
              "2   29       0          3  ...               0        1        1\n",
              "3   18       0          0  ...               0        0        1\n",
              "4   26       0          2  ...               0        1        1\n",
              "\n",
              "[5 rows x 13 columns]"
            ]
          },
          "metadata": {
            "tags": []
          },
          "execution_count": 21
        }
      ]
    },
    {
      "cell_type": "code",
      "metadata": {
        "id": "eUEP-bgOsXOF",
        "outputId": "a49abb1f-a7e1-4f7c-b667-628f8834d60e",
        "colab": {
          "base_uri": "https://localhost:8080/",
          "height": 266
        }
      },
      "source": [
        "df.describe"
      ],
      "execution_count": null,
      "outputs": [
        {
          "output_type": "execute_result",
          "data": {
            "text/plain": [
              "<bound method NDFrame.describe of        age  gender  education  ...  marital_status  no_card  default\n",
              "0       19       0          0  ...               0        0        1\n",
              "1       18       0          3  ...               0        0        1\n",
              "2       29       0          3  ...               0        1        1\n",
              "3       18       0          0  ...               0        0        1\n",
              "4       26       0          2  ...               0        1        1\n",
              "...    ...     ...        ...  ...             ...      ...      ...\n",
              "50631   31       1          3  ...               0        2        0\n",
              "50632   29       1          1  ...               0        2        0\n",
              "50633   25       0          2  ...               0        1        0\n",
              "50634   29       0          0  ...               2        0        0\n",
              "50635   25       0          0  ...               0        0        0\n",
              "\n",
              "[50636 rows x 13 columns]>"
            ]
          },
          "metadata": {
            "tags": []
          },
          "execution_count": 22
        }
      ]
    },
    {
      "cell_type": "code",
      "metadata": {
        "id": "uT_6ccAxiYbi"
      },
      "source": [
        "from sklearn.model_selection import train_test_split\n",
        "feature_col_names=['age','gender','education','occupation','organization_type','seniority','annual_income','disposable_income','house_type','vehicle_type','marital_status','no_card']\n",
        "pred_class_names=['default']\n",
        "X=df[feature_col_names].values\n",
        "y=df[pred_class_names].values\n",
        "X_train, X_test, y_train, y_test= train_test_split(X,y,test_size=0.30,random_state=42)\n"
      ],
      "execution_count": null,
      "outputs": []
    },
    {
      "cell_type": "code",
      "metadata": {
        "id": "XEOdmtHDjcHA"
      },
      "source": [
        "from sklearn.tree import DecisionTreeClassifier"
      ],
      "execution_count": null,
      "outputs": []
    },
    {
      "cell_type": "code",
      "metadata": {
        "id": "95njFxXNQIP4"
      },
      "source": [
        "dm1=DecisionTreeClassifier(criterion='entropy',random_state=40,min_samples_leaf=20,min_samples_split=20)"
      ],
      "execution_count": null,
      "outputs": []
    },
    {
      "cell_type": "code",
      "metadata": {
        "id": "ap6seHhEQ4td",
        "outputId": "6cf340b0-9ba9-4618-a7b3-65e3acd24fce",
        "colab": {
          "base_uri": "https://localhost:8080/",
          "height": 124
        }
      },
      "source": [
        "dm1.fit(X_train,y_train)"
      ],
      "execution_count": null,
      "outputs": [
        {
          "output_type": "execute_result",
          "data": {
            "text/plain": [
              "DecisionTreeClassifier(ccp_alpha=0.0, class_weight=None, criterion='entropy',\n",
              "                       max_depth=None, max_features=None, max_leaf_nodes=None,\n",
              "                       min_impurity_decrease=0.0, min_impurity_split=None,\n",
              "                       min_samples_leaf=20, min_samples_split=20,\n",
              "                       min_weight_fraction_leaf=0.0, presort='deprecated',\n",
              "                       random_state=40, splitter='best')"
            ]
          },
          "metadata": {
            "tags": []
          },
          "execution_count": 26
        }
      ]
    },
    {
      "cell_type": "code",
      "metadata": {
        "id": "2JOKbaa9sj3X",
        "outputId": "e946e44c-844e-4a7e-fc69-514f1b9b70dc",
        "colab": {
          "base_uri": "https://localhost:8080/",
          "height": 35
        }
      },
      "source": [
        "dm1_entropy_score=dm1.score(X_test,y_test)\n",
        "dm1_entropy_score"
      ],
      "execution_count": null,
      "outputs": [
        {
          "output_type": "execute_result",
          "data": {
            "text/plain": [
              "0.8477387927062077"
            ]
          },
          "metadata": {
            "tags": []
          },
          "execution_count": 27
        }
      ]
    },
    {
      "cell_type": "code",
      "metadata": {
        "id": "33go_AgGsslA"
      },
      "source": [
        "dm2=DecisionTreeClassifier(criterion='gini',random_state=0,min_samples_leaf=20,min_samples_split=20)"
      ],
      "execution_count": null,
      "outputs": []
    },
    {
      "cell_type": "code",
      "metadata": {
        "id": "mh9-L1Q3tS-T",
        "outputId": "9ce39d6b-7e12-403d-fe93-24442daa56a1",
        "colab": {
          "base_uri": "https://localhost:8080/",
          "height": 124
        }
      },
      "source": [
        "dm2.fit(X_train,y_train.ravel())"
      ],
      "execution_count": null,
      "outputs": [
        {
          "output_type": "execute_result",
          "data": {
            "text/plain": [
              "DecisionTreeClassifier(ccp_alpha=0.0, class_weight=None, criterion='gini',\n",
              "                       max_depth=None, max_features=None, max_leaf_nodes=None,\n",
              "                       min_impurity_decrease=0.0, min_impurity_split=None,\n",
              "                       min_samples_leaf=20, min_samples_split=20,\n",
              "                       min_weight_fraction_leaf=0.0, presort='deprecated',\n",
              "                       random_state=0, splitter='best')"
            ]
          },
          "metadata": {
            "tags": []
          },
          "execution_count": 29
        }
      ]
    },
    {
      "cell_type": "code",
      "metadata": {
        "id": "O4gmLQL1tXcv",
        "outputId": "7a0b2b46-029b-4056-d1a7-6baba166c2db",
        "colab": {
          "base_uri": "https://localhost:8080/",
          "height": 35
        }
      },
      "source": [
        "dm2_entropy_score=dm2.score(X_test,y_test)\n",
        "dm2_entropy_score"
      ],
      "execution_count": null,
      "outputs": [
        {
          "output_type": "execute_result",
          "data": {
            "text/plain": [
              "0.8451714831150023"
            ]
          },
          "metadata": {
            "tags": []
          },
          "execution_count": 30
        }
      ]
    },
    {
      "cell_type": "code",
      "metadata": {
        "id": "efnfJwk9tdUL",
        "outputId": "0f0995eb-9cdc-4cf7-fa30-275f761410be",
        "colab": {
          "base_uri": "https://localhost:8080/",
          "height": 35
        }
      },
      "source": [
        "y_pred1=dm1.predict(X_test)\n",
        "y_pred1"
      ],
      "execution_count": null,
      "outputs": [
        {
          "output_type": "execute_result",
          "data": {
            "text/plain": [
              "array([0, 0, 0, ..., 0, 0, 0])"
            ]
          },
          "metadata": {
            "tags": []
          },
          "execution_count": 31
        }
      ]
    },
    {
      "cell_type": "code",
      "metadata": {
        "id": "1JW22ZL3vTvc",
        "outputId": "324d81cf-d49e-4467-e699-4dd35317db7b",
        "colab": {
          "base_uri": "https://localhost:8080/",
          "height": 212
        }
      },
      "source": [
        "from sklearn.metrics import classification_report, confusion_matrix\n",
        "print(confusion_matrix(y_test, y_pred1))\n",
        "print(classification_report(y_test, y_pred1))"
      ],
      "execution_count": null,
      "outputs": [
        {
          "output_type": "stream",
          "text": [
            "[[12161   564]\n",
            " [ 1749   717]]\n",
            "              precision    recall  f1-score   support\n",
            "\n",
            "           0       0.87      0.96      0.91     12725\n",
            "           1       0.56      0.29      0.38      2466\n",
            "\n",
            "    accuracy                           0.85     15191\n",
            "   macro avg       0.72      0.62      0.65     15191\n",
            "weighted avg       0.82      0.85      0.83     15191\n",
            "\n"
          ],
          "name": "stdout"
        }
      ]
    },
    {
      "cell_type": "code",
      "metadata": {
        "id": "cvyVIR8KvawD",
        "outputId": "c15490f2-f051-4b49-d974-fb054745026c",
        "colab": {
          "base_uri": "https://localhost:8080/",
          "height": 35
        }
      },
      "source": [
        "y_pred2=dm2.predict(X_test)\n",
        "y_pred2"
      ],
      "execution_count": null,
      "outputs": [
        {
          "output_type": "execute_result",
          "data": {
            "text/plain": [
              "array([0, 0, 0, ..., 0, 0, 0])"
            ]
          },
          "metadata": {
            "tags": []
          },
          "execution_count": 33
        }
      ]
    },
    {
      "cell_type": "code",
      "metadata": {
        "id": "Sy-9DWrbvrgk",
        "outputId": "94912e46-6a90-411f-d17b-311bc6710afe",
        "colab": {
          "base_uri": "https://localhost:8080/",
          "height": 212
        }
      },
      "source": [
        "from sklearn.metrics import classification_report, confusion_matrix\n",
        "print(confusion_matrix(y_test, y_pred2))\n",
        "print(classification_report(y_test, y_pred2))"
      ],
      "execution_count": null,
      "outputs": [
        {
          "output_type": "stream",
          "text": [
            "[[12139   586]\n",
            " [ 1766   700]]\n",
            "              precision    recall  f1-score   support\n",
            "\n",
            "           0       0.87      0.95      0.91     12725\n",
            "           1       0.54      0.28      0.37      2466\n",
            "\n",
            "    accuracy                           0.85     15191\n",
            "   macro avg       0.71      0.62      0.64     15191\n",
            "weighted avg       0.82      0.85      0.82     15191\n",
            "\n"
          ],
          "name": "stdout"
        }
      ]
    },
    {
      "cell_type": "code",
      "metadata": {
        "id": "2o04Gwibw9Ek",
        "outputId": "1af113b8-b4b3-426d-cb98-2136ad6ddd5e",
        "colab": {
          "base_uri": "https://localhost:8080/",
          "height": 35
        }
      },
      "source": [
        "dm1.predict([[19,0,0,1,0,4,186319,21625,1,1,0,0]])"
      ],
      "execution_count": null,
      "outputs": [
        {
          "output_type": "execute_result",
          "data": {
            "text/plain": [
              "array([1])"
            ]
          },
          "metadata": {
            "tags": []
          },
          "execution_count": 35
        }
      ]
    },
    {
      "cell_type": "code",
      "metadata": {
        "id": "Y8X1bYt3xsKE",
        "outputId": "d4da8857-9cc4-4252-e963-72efba298e3f",
        "colab": {
          "base_uri": "https://localhost:8080/",
          "height": 35
        }
      },
      "source": [
        "dm2.predict([[19,0,0,1,0,4,186319,21625,1,1,0,0]])"
      ],
      "execution_count": null,
      "outputs": [
        {
          "output_type": "execute_result",
          "data": {
            "text/plain": [
              "array([1])"
            ]
          },
          "metadata": {
            "tags": []
          },
          "execution_count": 36
        }
      ]
    },
    {
      "cell_type": "code",
      "metadata": {
        "id": "yKkqHjOIzJe4",
        "outputId": "89231957-be68-4340-8ebd-e5972ca58a72",
        "colab": {
          "base_uri": "https://localhost:8080/",
          "height": 297
        }
      },
      "source": [
        "df.plot()"
      ],
      "execution_count": null,
      "outputs": [
        {
          "output_type": "execute_result",
          "data": {
            "text/plain": [
              "<matplotlib.axes._subplots.AxesSubplot at 0x7fcf64b09710>"
            ]
          },
          "metadata": {
            "tags": []
          },
          "execution_count": 37
        },
        {
          "output_type": "display_data",
          "data": {
            "image/png": "[encoded data removed]",
            "text/plain": [
              "<Figure size 432x288 with 1 Axes>"
            ]
          },
          "metadata": {
            "tags": [],
            "needs_background": "light"
          }
        }
      ]
    },
    {
      "cell_type": "code",
      "metadata": {
        "id": "TQeq39u4z-_I",
        "outputId": "15912fb6-8a94-41ee-b332-204b58b3d4ab",
        "colab": {
          "base_uri": "https://localhost:8080/",
          "height": 35
        }
      },
      "source": [
        "range_annual_income=df['annual_income'].max()-df['annual_income'].min()\n",
        "range_annual_income"
      ],
      "execution_count": null,
      "outputs": [
        {
          "output_type": "execute_result",
          "data": {
            "text/plain": [
              "949844"
            ]
          },
          "metadata": {
            "tags": []
          },
          "execution_count": 38
        }
      ]
    },
    {
      "cell_type": "code",
      "metadata": {
        "id": "mPMWIF-Y0Zj7",
        "outputId": "7f622782-675d-44ed-afc9-76f5ac3166aa",
        "colab": {
          "base_uri": "https://localhost:8080/",
          "height": 35
        }
      },
      "source": [
        "range_disposable_income=df['disposable_income'].max()-df['disposable_income'].min()\n",
        "range_disposable_income"
      ],
      "execution_count": null,
      "outputs": [
        {
          "output_type": "execute_result",
          "data": {
            "text/plain": [
              "48999"
            ]
          },
          "metadata": {
            "tags": []
          },
          "execution_count": 39
        }
      ]
    },
    {
      "cell_type": "code",
      "metadata": {
        "id": "vmE4OsTr0m9y",
        "outputId": "e2a712f7-077d-4209-c6b0-86cd32396f71",
        "colab": {
          "base_uri": "https://localhost:8080/",
          "height": 303
        }
      },
      "source": [
        "df.plot('annual_income','disposable_income',kind='scatter',color='green')"
      ],
      "execution_count": null,
      "outputs": [
        {
          "output_type": "execute_result",
          "data": {
            "text/plain": [
              "<matplotlib.axes._subplots.AxesSubplot at 0x7fcf649d76a0>"
            ]
          },
          "metadata": {
            "tags": []
          },
          "execution_count": 40
        },
        {
          "output_type": "display_data",
          "data": {
            "image/png": "[encoded data removed]",
            "text/plain": [
              "<Figure size 432x288 with 1 Axes>"
            ]
          },
          "metadata": {
            "tags": [],
            "needs_background": "light"
          }
        }
      ]
    },
    {
      "cell_type": "code",
      "metadata": {
        "id": "YgZCqc9G076f",
        "outputId": "aefc6acd-20c8-414c-a602-abec3977d1a4",
        "colab": {
          "base_uri": "https://localhost:8080/",
          "height": 314
        }
      },
      "source": [
        "df.plot('age','annual_income',kind='scatter',color='green')"
      ],
      "execution_count": null,
      "outputs": [
        {
          "output_type": "execute_result",
          "data": {
            "text/plain": [
              "<matplotlib.axes._subplots.AxesSubplot at 0x7fcf644f1d68>"
            ]
          },
          "metadata": {
            "tags": []
          },
          "execution_count": 41
        },
        {
          "output_type": "display_data",
          "data": {
            "image/png": "[encoded data removed]",
            "text/plain": [
              "<Figure size 432x288 with 1 Axes>"
            ]
          },
          "metadata": {
            "tags": [],
            "needs_background": "light"
          }
        }
      ]
    },
    {
      "cell_type": "code",
      "metadata": {
        "id": "hFc4TlBt1IW4",
        "outputId": "bad58753-3dc7-437f-daf2-a10dd19bd769",
        "colab": {
          "base_uri": "https://localhost:8080/",
          "height": 302
        }
      },
      "source": [
        "df['annual_income'].plot(kind='hist',bins=35,color='red')\n"
      ],
      "execution_count": null,
      "outputs": [
        {
          "output_type": "execute_result",
          "data": {
            "text/plain": [
              "<matplotlib.axes._subplots.AxesSubplot at 0x7fcf64448ba8>"
            ]
          },
          "metadata": {
            "tags": []
          },
          "execution_count": 43
        },
        {
          "output_type": "display_data",
          "data": {
            "image/png": "[encoded data removed]",
            "text/plain": [
              "<Figure size 432x288 with 1 Axes>"
            ]
          },
          "metadata": {
            "tags": [],
            "needs_background": "light"
          }
        }
      ]
    },
    {
      "cell_type": "code",
      "metadata": {
        "id": "6Ar5gtfn1cDC",
        "outputId": "6e39fa0d-5608-4741-a059-47a6877a3165",
        "colab": {
          "base_uri": "https://localhost:8080/",
          "height": 286
        }
      },
      "source": [
        "df['disposable_income'].plot(kind='hist',bins=35,color='green')"
      ],
      "execution_count": null,
      "outputs": [
        {
          "output_type": "execute_result",
          "data": {
            "text/plain": [
              "<matplotlib.axes._subplots.AxesSubplot at 0x7fcf641ccc50>"
            ]
          },
          "metadata": {
            "tags": []
          },
          "execution_count": 44
        },
        {
          "output_type": "display_data",
          "data": {
            "image/png": "[encoded data removed]",
            "text/plain": [
              "<Figure size 432x288 with 1 Axes>"
            ]
          },
          "metadata": {
            "tags": [],
            "needs_background": "light"
          }
        }
      ]
    },
    {
      "cell_type": "code",
      "metadata": {
        "id": "_Nl8rHMp1lKy"
      },
      "source": [
        ""
      ],
      "execution_count": null,
      "outputs": []
    }
  ]
}